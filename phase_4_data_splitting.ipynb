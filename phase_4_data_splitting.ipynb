{
 "cells": [
  {
   "cell_type": "markdown",
   "id": "b31a7dd6",
   "metadata": {},
   "source": [
    "- load the `data: phase_3` from the `data` folder"
   ]
  },
  {
   "cell_type": "code",
   "execution_count": 1,
   "id": "febf35bb",
   "metadata": {},
   "outputs": [],
   "source": [
    "import pandas as pd\n",
    "df = pd.read_csv(\"data/phase_3_titanic_dataset.csv\")"
   ]
  },
  {
   "cell_type": "code",
   "execution_count": 3,
   "id": "3a900509",
   "metadata": {},
   "outputs": [],
   "source": [
    "from sklearn.model_selection import train_test_split\n",
    "\n",
    "# Features (X) and target (y)\n",
    "X = df.drop(columns=['survived'])  # all columns except the label\n",
    "y = df['survived']                 # the target column\n",
    "\n",
    "# Split into training and test sets\n",
    "X_train, X_test, y_train, y_test = train_test_split(\n",
    "    X, y,\n",
    "    test_size=0.2,        # 20% test data\n",
    "    random_state=42,      # for reproducibility\n",
    "    stratify=y            # ensures class balance in both sets\n",
    ")\n"
   ]
  },
  {
   "cell_type": "markdown",
   "id": "62b28e60",
   "metadata": {},
   "source": [
    "> 📝 `stratify=y` is important when the target classes are imbalanced."
   ]
  },
  {
   "cell_type": "markdown",
   "id": "1939361a",
   "metadata": {},
   "source": [
    "- next we will use the train and test splits in the next section for the modeling and evaluation"
   ]
  }
 ],
 "metadata": {
  "kernelspec": {
   "display_name": "deep_learning_env",
   "language": "python",
   "name": "python3"
  },
  "language_info": {
   "codemirror_mode": {
    "name": "ipython",
    "version": 3
   },
   "file_extension": ".py",
   "mimetype": "text/x-python",
   "name": "python",
   "nbconvert_exporter": "python",
   "pygments_lexer": "ipython3",
   "version": "3.10.17"
  }
 },
 "nbformat": 4,
 "nbformat_minor": 5
}
